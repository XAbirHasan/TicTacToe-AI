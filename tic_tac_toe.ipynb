{
  "nbformat": 4,
  "nbformat_minor": 0,
  "metadata": {
    "colab": {
      "name": "tic tac toe",
      "provenance": [],
      "collapsed_sections": []
    },
    "kernelspec": {
      "name": "python3",
      "display_name": "Python 3"
    }
  },
  "cells": [
    {
      "cell_type": "markdown",
      "metadata": {
        "id": "sYSQBTA5eQ-f"
      },
      "source": [
        "# tic tac toe"
      ]
    },
    {
      "cell_type": "code",
      "metadata": {
        "id": "ySJ9k99muKeD"
      },
      "source": [
        "def win(board, move_no):\n",
        "    if((board[0][0] == 1 and board[0][1] == 1  and board[0][2] == 1) or (board[1][0] == 1 and board[1][1] == 1  and board[1][2] == 1) or (board[2][0] == 1 and board[2][1] == 1  and board[2][2] == 1)) or ((board[0][0] == 1 and board[1][0] == 1  and board[2][0] == 1) or (board[0][1] == 1 and board[1][1] == 1  and board[2][1] == 1) or (board[0][2] == 1 and board[1][2] == 1  and board[2][2] == 1)) or  ((board[0][0] == 1 and board[1][1] == 1  and board[2][2] == 1) or (board[2][0] == 1 and board[1][1] == 1  and board[0][2] == 1)):\n",
        "        return \"pc\"\n",
        "    elif((board[0][0] == 2 and board[0][1] == 2  and board[0][2] == 2) or (board[1][0] == 2 and board[1][1] == 2  and board[1][2] == 2) or (board[2][0] == 2 and board[2][1] == 2  and board[2][2] == 2)) or ((board[0][0] == 2 and board[1][0] == 2  and board[2][0] == 2) or (board[0][1] == 2 and board[1][1] == 2  and board[2][1] == 2) or (board[0][2] == 2 and board[1][2] == 2  and board[2][2] == 2)) or  ((board[0][0] == 2 and board[1][1] == 2  and board[2][2] == 2) or (board[2][0] == 2 and board[1][1] == 2  and board[0][2] == 2)):\n",
        "        return \"player\"\n",
        "    elif move_no >= 9:\n",
        "        return \"draw\"\n",
        "    else:\n",
        "        return \"play\""
      ],
      "execution_count": 61,
      "outputs": []
    },
    {
      "cell_type": "code",
      "metadata": {
        "id": "mS-HsxpVteZk"
      },
      "source": [
        "def utility(board, depth, move_no):\n",
        "    if (win(board, move_no) == \"pc\"):\n",
        "        return 1/depth\n",
        "    elif (win(board, move_no) == \"player\"):\n",
        "        return -1\n",
        "    elif (win(board, move_no) == \"draw\"):\n",
        "        return 0"
      ],
      "execution_count": 62,
      "outputs": []
    },
    {
      "cell_type": "code",
      "metadata": {
        "id": "loZApBlnzGZZ"
      },
      "source": [
        "def max_Finding(board, depth, move_no):\n",
        "    if(win(board, move_no) == \"play\"):\n",
        "        util = -999999\n",
        "        for j in range(0,3):\n",
        "            for k in range (0,3):\n",
        "                if(board[j][k] == 0):\n",
        "                    board[j][k] = 1\n",
        "                    util = max(util ,min_Finding(board.copy(),depth+1,move_no+1))\n",
        "                    board[j][k] = 0\n",
        "        return util\n",
        "    else : \n",
        "        return utility(board, depth, move_no)"
      ],
      "execution_count": 63,
      "outputs": []
    },
    {
      "cell_type": "code",
      "metadata": {
        "id": "pQKFxnCY3A4o"
      },
      "source": [
        "def min_Finding(board, depth, move_no):\n",
        "    if(win(board, move_no) == \"play\"):\n",
        "        util = 999999\n",
        "        for j in range(0,3):\n",
        "            for k in range (0,3):\n",
        "                if(board[j][k] == 0):\n",
        "                    board[j][k] = 2\n",
        "                    util = min(util ,max_Finding(board.copy(),depth+1,move_no+1))\n",
        "                    board[j][k] = 0\n",
        "        return util\n",
        "    else : \n",
        "        return utility(board, depth, move_no)"
      ],
      "execution_count": 64,
      "outputs": []
    },
    {
      "cell_type": "code",
      "metadata": {
        "id": "uMosh_xp3lhf"
      },
      "source": [
        "def choose_pc_move(matrix,move_no):\n",
        "    best = -999999\n",
        "    for j in range(0,3):\n",
        "        for k in range (0,3):\n",
        "            if(matrix[j][k] == 0):\n",
        "                matrix[j][k] = 1\n",
        "                util= min_Finding(matrix.copy(),1,move_no+1)\n",
        "                matrix[j][k] = 0\n",
        "                if(best<util):\n",
        "                    best = util\n",
        "                    move_i = j\n",
        "                    move_j = k\n",
        "    return move_i,move_j\n"
      ],
      "execution_count": 65,
      "outputs": []
    },
    {
      "cell_type": "code",
      "metadata": {
        "id": "ZniCBoOh7B3X"
      },
      "source": [
        "def main():\n",
        "    import numpy as np\n",
        "    move_no = 0\n",
        "    matrix= np.array([[0,0,0],[0,0,0],[0,0,0]])\n",
        "    print(\"----------------------Start game-----------------------------\")\n",
        "    board= np.array([['0','0','0'],['0','0','0'],['0','0','0']])\n",
        "    print(board)\n",
        "    print(\"\\nPlayer symbol: X\")\n",
        "    print(\"CPU symbol: Z\")\n",
        "    print(win(matrix,move_no))\n",
        "    while (win(matrix,move_no) is \"play\"):\n",
        "\n",
        "        print(\"\\n----------------------Next Move-----------------------------\")\n",
        "        i = int(input(\"\\nenter your row position (less then 3) : \"))\n",
        "        j = int(input(\"enter your coulmn position (less then 3): \"))\n",
        "\n",
        "        if (i >= 3 or i < 0) or (j >= 3 or j < 0):\n",
        "            print(\"Wrong input\")\n",
        "            continue\n",
        "        elif matrix[i][j] == 0:\n",
        "            matrix[i][j] = 2\n",
        "            board[i][j] = 'X'\n",
        "        elif matrix[i][j] != 0:\n",
        "            print(\"Wrong move\")\n",
        "            continue\n",
        "        move_no +=1\n",
        "        print(\"\\nPlayer move : \\n\",board,\"\\n\")\n",
        "        if(win(matrix,move_no) != \"play\"): \n",
        "            print(win(matrix,move_no))\n",
        "            break\n",
        "        i,j = choose_pc_move(matrix.copy(),move_no)\n",
        "        board[i][j] = 'Z'\n",
        "        matrix[i][j] = 1\n",
        "        move_no +=1\n",
        "        print(\"PC move : \\n\",board,\"\\n\")\n",
        "        if(win(matrix,move_no) != \"play\"): \n",
        "            print(\"\\n----------------------Match results-----------------------------\\n\")\n",
        "            print(\"Won by: \", end=\" \")\n",
        "            print(win(matrix,move_no))\n",
        "            print(\"\\n----------------------End game-----------------------------\")\n",
        "            break\n",
        "\n"
      ],
      "execution_count": 66,
      "outputs": []
    },
    {
      "cell_type": "markdown",
      "metadata": {
        "id": "VlIrKSZzeXGA"
      },
      "source": [
        "# RUN"
      ]
    },
    {
      "cell_type": "code",
      "metadata": {
        "colab": {
          "base_uri": "https://localhost:8080/"
        },
        "id": "EPoD7tfgeo6j",
        "outputId": "9b223994-5318-4e9c-fd4f-10df5d4ebbe2"
      },
      "source": [
        "main()"
      ],
      "execution_count": 67,
      "outputs": [
        {
          "output_type": "stream",
          "name": "stdout",
          "text": [
            "----------------------Start game-----------------------------\n",
            "[['0' '0' '0']\n",
            " ['0' '0' '0']\n",
            " ['0' '0' '0']]\n",
            "\n",
            "Player symbol: X\n",
            "CPU symbol: Z\n",
            "play\n",
            "\n",
            "----------------------Next Move-----------------------------\n",
            "\n",
            "enter your row position (less then 3) : 1\n",
            "enter your coulmn position (less then 3): 1\n",
            "\n",
            "Player move : \n",
            " [['0' '0' '0']\n",
            " ['0' 'X' '0']\n",
            " ['0' '0' '0']] \n",
            "\n",
            "PC move : \n",
            " [['Z' '0' '0']\n",
            " ['0' 'X' '0']\n",
            " ['0' '0' '0']] \n",
            "\n",
            "\n",
            "----------------------Next Move-----------------------------\n",
            "\n",
            "enter your row position (less then 3) : 1\n",
            "enter your coulmn position (less then 3): 0\n",
            "\n",
            "Player move : \n",
            " [['Z' '0' '0']\n",
            " ['X' 'X' '0']\n",
            " ['0' '0' '0']] \n",
            "\n",
            "PC move : \n",
            " [['Z' '0' '0']\n",
            " ['X' 'X' 'Z']\n",
            " ['0' '0' '0']] \n",
            "\n",
            "\n",
            "----------------------Next Move-----------------------------\n",
            "\n",
            "enter your row position (less then 3) : 0\n",
            "enter your coulmn position (less then 3): 0\n",
            "Wrong move\n",
            "\n",
            "----------------------Next Move-----------------------------\n",
            "\n",
            "enter your row position (less then 3) : 2\n",
            "enter your coulmn position (less then 3): 1\n",
            "\n",
            "Player move : \n",
            " [['Z' '0' '0']\n",
            " ['X' 'X' 'Z']\n",
            " ['0' 'X' '0']] \n",
            "\n",
            "PC move : \n",
            " [['Z' 'Z' '0']\n",
            " ['X' 'X' 'Z']\n",
            " ['0' 'X' '0']] \n",
            "\n",
            "\n",
            "----------------------Next Move-----------------------------\n",
            "\n",
            "enter your row position (less then 3) : 2\n",
            "enter your coulmn position (less then 3): 0\n",
            "\n",
            "Player move : \n",
            " [['Z' 'Z' '0']\n",
            " ['X' 'X' 'Z']\n",
            " ['X' 'X' '0']] \n",
            "\n",
            "PC move : \n",
            " [['Z' 'Z' 'Z']\n",
            " ['X' 'X' 'Z']\n",
            " ['X' 'X' '0']] \n",
            "\n",
            "\n",
            "----------------------Match results-----------------------------\n",
            "\n",
            "Won by:  pc\n",
            "\n",
            "----------------------End game-----------------------------\n"
          ]
        }
      ]
    }
  ]
}